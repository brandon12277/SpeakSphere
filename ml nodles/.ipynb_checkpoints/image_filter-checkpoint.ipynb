{
 "cells": [
  {
   "cell_type": "markdown",
   "id": "62de2642-3219-4a6d-b220-ab955cf9b554",
   "metadata": {},
   "source": [
    "# Importing libraries"
   ]
  },
  {
   "cell_type": "code",
   "execution_count": 1,
   "id": "1cc99db4-6642-4e46-909b-d4559ce22a44",
   "metadata": {},
   "outputs": [
    {
     "name": "stdout",
     "output_type": "stream",
     "text": [
      "WARNING:tensorflow:From C:\\Users\\brandon\\AppData\\Local\\Programs\\Python\\Python311\\Lib\\site-packages\\keras\\src\\losses.py:2976: The name tf.losses.sparse_softmax_cross_entropy is deprecated. Please use tf.compat.v1.losses.sparse_softmax_cross_entropy instead.\n",
      "\n"
     ]
    }
   ],
   "source": [
    "import numpy as np\n",
    "import pandas as pd\n",
    "import tensorflow as tf\n",
    "from keras.preprocessing.image import ImageDataGenerator"
   ]
  },
  {
   "cell_type": "markdown",
   "id": "5ed74d4d-1c58-4862-bc81-3f8202d26ece",
   "metadata": {},
   "source": [
    "# Training set preprocessing "
   ]
  },
  {
   "cell_type": "code",
   "execution_count": 2,
   "id": "ebda6a7a-e1d7-4720-bb9f-ac768eca4a5e",
   "metadata": {},
   "outputs": [
    {
     "name": "stdout",
     "output_type": "stream",
     "text": [
      "Found 980 images belonging to 3 classes.\n"
     ]
    }
   ],
   "source": [
    "train_datagen = ImageDataGenerator(rescale = 1./255,\n",
    "                                   shear_range = 0.2,\n",
    "                                   horizontal_flip = True)\n",
    "training_set = train_datagen.flow_from_directory('images/training set',\n",
    "                                                 target_size = (64, 64),\n",
    "                                                 batch_size = 32,\n",
    "                                                 class_mode = 'categorical')"
   ]
  },
  {
   "cell_type": "markdown",
   "id": "0cf16006-2119-49c7-b9f7-e6eb65df38f1",
   "metadata": {},
   "source": [
    "# test set preprocessing"
   ]
  },
  {
   "cell_type": "code",
   "execution_count": 3,
   "id": "abd9f9a7-e9cc-4d1b-b2f3-88bd62ffbf7c",
   "metadata": {},
   "outputs": [
    {
     "name": "stdout",
     "output_type": "stream",
     "text": [
      "Found 73 images belonging to 3 classes.\n"
     ]
    }
   ],
   "source": [
    "test_datagen = ImageDataGenerator(rescale = 1./255)\n",
    "test_set = test_datagen.flow_from_directory('images/test set',\n",
    "                                            target_size = (64, 64),\n",
    "                                            batch_size = 32,\n",
    "                                            class_mode = 'categorical')"
   ]
  },
  {
   "cell_type": "markdown",
   "id": "f6ee05d6-b452-4591-a8b3-18c1737b01ee",
   "metadata": {},
   "source": [
    "# Create Sequential model"
   ]
  },
  {
   "cell_type": "code",
   "execution_count": null,
   "id": "d7efbaa5-bee0-4386-808f-3ecba6aa5a4c",
   "metadata": {},
   "outputs": [],
   "source": [
    "cnn = tf.keras.models.Sequential()"
   ]
  },
  {
   "cell_type": "markdown",
   "id": "992b9474-4549-4b9a-ae54-37905944c43b",
   "metadata": {},
   "source": [
    "# First Convolutional and Pooling Layer"
   ]
  },
  {
   "cell_type": "code",
   "execution_count": null,
   "id": "e957c88f-dfba-49b2-8bae-1fa4870544fb",
   "metadata": {},
   "outputs": [],
   "source": [
    "cnn.add(tf.keras.layers.Conv2D(filters=32, kernel_size=3, activation='relu', input_shape=[64, 64, 3]))\n",
    "cnn.add(tf.keras.layers.MaxPool2D(pool_size=2, strides=2))"
   ]
  },
  {
   "cell_type": "markdown",
   "id": "f6979589-586d-457a-8a52-bcb703e88eb6",
   "metadata": {},
   "source": [
    "# Second Convolutional and Pooling Layer"
   ]
  },
  {
   "cell_type": "code",
   "execution_count": null,
   "id": "a924c21b-9580-465b-b544-59de071b28fe",
   "metadata": {},
   "outputs": [],
   "source": [
    "cnn.add(tf.keras.layers.Conv2D(filters=32, kernel_size=3, activation='relu'))\n",
    "cnn.add(tf.keras.layers.MaxPool2D(pool_size=2, strides=2))"
   ]
  },
  {
   "cell_type": "markdown",
   "id": "9e94ccfc-9b2e-408c-886d-146e0b644e7d",
   "metadata": {},
   "source": [
    "# Flattening"
   ]
  },
  {
   "cell_type": "code",
   "execution_count": null,
   "id": "3e6f8e15-80aa-48f2-8b18-10b7f11be211",
   "metadata": {},
   "outputs": [],
   "source": [
    "cnn.add(tf.keras.layers.Flatten())"
   ]
  },
  {
   "cell_type": "markdown",
   "id": "064d8607-b329-454c-9f97-d1e5f992a85f",
   "metadata": {},
   "source": [
    "# Added Dense Layers and output layers"
   ]
  },
  {
   "cell_type": "code",
   "execution_count": null,
   "id": "004027f5-d513-4e92-9b0c-2ff0391679da",
   "metadata": {},
   "outputs": [],
   "source": [
    "cnn.add(tf.keras.layers.Dense(units=128, activation='relu'))\n",
    "cnn.add(tf.keras.layers.Dense(units=3, activation='softmax'))"
   ]
  },
  {
   "cell_type": "markdown",
   "id": "adf4b90e-d060-4824-bf64-7c3ebece4009",
   "metadata": {},
   "source": [
    "# Compiling the model"
   ]
  },
  {
   "cell_type": "code",
   "execution_count": null,
   "id": "1fc8a3e6-1349-4a19-939a-4ceeb3a6c156",
   "metadata": {},
   "outputs": [],
   "source": [
    "cnn.compile(optimizer = 'adam', loss = 'categorical_crossentropy', metrics = ['accuracy'])"
   ]
  },
  {
   "cell_type": "markdown",
   "id": "59589fc9-3634-4d8a-b116-68eea71b3dd6",
   "metadata": {},
   "source": [
    "# Training the model"
   ]
  },
  {
   "cell_type": "code",
   "execution_count": null,
   "id": "9dfd53df-6c74-473b-980c-ee32ffa0196c",
   "metadata": {},
   "outputs": [],
   "source": [
    "cnn.fit(x = training_set, validation_data = test_set, epochs = 15)"
   ]
  },
  {
   "cell_type": "markdown",
   "id": "c2f2c6bc-50fc-4ae0-9592-d59b0cbf32c8",
   "metadata": {},
   "source": [
    "# Testing the Model"
   ]
  },
  {
   "cell_type": "code",
   "execution_count": 20,
   "id": "f2cffece-41e5-4e30-b72c-5fee24856f99",
   "metadata": {},
   "outputs": [
    {
     "name": "stdout",
     "output_type": "stream",
     "text": [
      "1/1 [==============================] - 0s 67ms/step\n",
      "[[0. 1. 0.]]\n",
      "random\n"
     ]
    }
   ],
   "source": [
    "import os\n",
    "from keras.preprocessing import image\n",
    "import joblib\n",
    "\n",
    "imagefil = tf.keras.models.load_model(\"image_filter_2.h5\")\n",
    "\n",
    "\n",
    "\n",
    "classes =[\"gory\",\"random\",\"sexual\"]\n",
    "\n",
    "def image_processing(path):\n",
    "    test_image = image.load_img(path, target_size = (64, 64))\n",
    "    test_image = image.img_to_array(test_image)\n",
    "    test_image = np.expand_dims(test_image, axis = 0)\n",
    "    return test_image\n",
    "\n",
    "result = imagefil.predict(image_processing('images.jpeg'))\n",
    "print(result)\n",
    "if result[0][0] == 1:\n",
    "    print(\"gory\")\n",
    "\n",
    "elif result[0][1] == 1:\n",
    "    print(\"random\")\n",
    "else:\n",
    "    print(\"sexual\")\n",
    "\n"
   ]
  },
  {
   "cell_type": "code",
   "execution_count": null,
   "id": "be337b01-33a9-404e-942a-c844de30c6c3",
   "metadata": {},
   "outputs": [],
   "source": []
  }
 ],
 "metadata": {
  "kernelspec": {
   "display_name": "Python 3 (ipykernel)",
   "language": "python",
   "name": "python3"
  },
  "language_info": {
   "codemirror_mode": {
    "name": "ipython",
    "version": 3
   },
   "file_extension": ".py",
   "mimetype": "text/x-python",
   "name": "python",
   "nbconvert_exporter": "python",
   "pygments_lexer": "ipython3",
   "version": "3.12.3"
  }
 },
 "nbformat": 4,
 "nbformat_minor": 5
}
