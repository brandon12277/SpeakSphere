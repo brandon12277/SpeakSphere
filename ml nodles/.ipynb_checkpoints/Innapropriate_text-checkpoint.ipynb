{
 "cells": [
  {
   "cell_type": "code",
   "execution_count": 1,
   "id": "ef661bbc-a16a-49c8-bb24-61160069cf1f",
   "metadata": {},
   "outputs": [
    {
     "name": "stderr",
     "output_type": "stream",
     "text": [
      "\n",
      "[notice] A new release of pip is available: 24.0 -> 24.2\n",
      "[notice] To update, run: python.exe -m pip install --upgrade pip\n"
     ]
    },
    {
     "name": "stdout",
     "output_type": "stream",
     "text": [
      "Requirement already satisfied: nltk in c:\\users\\brandon williams\\appdata\\local\\programs\\python\\python312\\lib\\site-packages (3.8.1)\n",
      "Requirement already satisfied: click in c:\\users\\brandon williams\\appdata\\local\\programs\\python\\python312\\lib\\site-packages (from nltk) (8.1.7)\n",
      "Requirement already satisfied: joblib in c:\\users\\brandon williams\\appdata\\local\\programs\\python\\python312\\lib\\site-packages (from nltk) (1.4.2)\n",
      "Requirement already satisfied: regex>=2021.8.3 in c:\\users\\brandon williams\\appdata\\local\\programs\\python\\python312\\lib\\site-packages (from nltk) (2024.7.24)\n",
      "Requirement already satisfied: tqdm in c:\\users\\brandon williams\\appdata\\local\\programs\\python\\python312\\lib\\site-packages (from nltk) (4.66.5)\n",
      "Requirement already satisfied: colorama in c:\\users\\brandon williams\\appdata\\local\\programs\\python\\python312\\lib\\site-packages (from click->nltk) (0.4.6)\n"
     ]
    }
   ],
   "source": [
    "!pip install nltk\n",
    "import numpy as np\n",
    "import tensorflow as tf\n",
    "import pandas as pd\n",
    "import nltk\n",
    "import re\n"
   ]
  },
  {
   "cell_type": "code",
   "execution_count": 2,
   "id": "07bd903d-6f08-493c-9589-cc3ef507d9ba",
   "metadata": {},
   "outputs": [
    {
     "name": "stdout",
     "output_type": "stream",
     "text": [
      "       Unnamed: 0  count  hate_speech  offensive_language  neither  class  \\\n",
      "0               0      3            0                   0        3      2   \n",
      "1               1      3            0                   3        0      1   \n",
      "2               2      3            0                   3        0      1   \n",
      "3               3      3            0                   2        1      1   \n",
      "4               4      6            0                   6        0      1   \n",
      "...           ...    ...          ...                 ...      ...    ...   \n",
      "24778       25291      3            0                   2        1      1   \n",
      "24779       25292      3            0                   1        2      2   \n",
      "24780       25294      3            0                   3        0      1   \n",
      "24781       25295      6            0                   6        0      1   \n",
      "24782       25296      3            0                   0        3      2   \n",
      "\n",
      "                                                   tweet  \n",
      "0      !!! RT @mayasolovely: As a woman you shouldn't...  \n",
      "1      !!!!! RT @mleew17: boy dats cold...tyga dwn ba...  \n",
      "2      !!!!!!! RT @UrKindOfBrand Dawg!!!! RT @80sbaby...  \n",
      "3      !!!!!!!!! RT @C_G_Anderson: @viva_based she lo...  \n",
      "4      !!!!!!!!!!!!! RT @ShenikaRoberts: The shit you...  \n",
      "...                                                  ...  \n",
      "24778  you's a muthaf***in lie &#8220;@LifeAsKing: @2...  \n",
      "24779  you've gone and broke the wrong heart baby, an...  \n",
      "24780  young buck wanna eat!!.. dat nigguh like I ain...  \n",
      "24781              youu got wild bitches tellin you lies  \n",
      "24782  ~~Ruffled | Ntac Eileen Dahlia - Beautiful col...  \n",
      "\n",
      "[24783 rows x 7 columns]\n",
      "[\"!!! RT @mayasolovely: As a woman you shouldn't complain about cleaning up your house. &amp; as a man you should always take the trash out...\"\n",
      " '!!!!! RT @mleew17: boy dats cold...tyga dwn bad for cuffin dat hoe in the 1st place!!'\n",
      " '!!!!!!! RT @UrKindOfBrand Dawg!!!! RT @80sbaby4life: You ever fuck a bitch and she start to cry? You be confused as shit'\n",
      " ... 'young buck wanna eat!!.. dat nigguh like I aint fuckin dis up again'\n",
      " 'youu got wild bitches tellin you lies'\n",
      " '~~Ruffled | Ntac Eileen Dahlia - Beautiful color combination of pink, orange, yellow &amp; white. A Coll http://t.co/H0dYEBvnZB']\n"
     ]
    }
   ],
   "source": [
    "dataset = pd.read_csv('labeled_data.csv')\n",
    "print(dataset)\n",
    "X = dataset.iloc[:,-1].values\n",
    "Y = dataset.iloc[:,5].values\n",
    "\n",
    "print(X)"
   ]
  },
  {
   "cell_type": "code",
   "execution_count": null,
   "id": "33d68d12-f26a-40e6-928e-12ef90d289c7",
   "metadata": {},
   "outputs": [],
   "source": [
    "\n"
   ]
  },
  {
   "cell_type": "markdown",
   "id": "7eee8b9f-d9be-49d1-b7fe-87de95440cc3",
   "metadata": {},
   "source": [
    "# Cleaning the tweets"
   ]
  },
  {
   "cell_type": "code",
   "execution_count": 3,
   "id": "81bddd33-fa35-4c43-8f08-93774c4694f2",
   "metadata": {},
   "outputs": [
    {
     "name": "stderr",
     "output_type": "stream",
     "text": [
      "[nltk_data] Downloading package stopwords to C:\\Users\\Brandon\n",
      "[nltk_data]     Williams\\AppData\\Roaming\\nltk_data...\n",
      "[nltk_data]   Package stopwords is already up-to-date!\n"
     ]
    },
    {
     "data": {
      "text/plain": [
       "['rt mayasolov woman complain clean hous amp man alway take trash',\n",
       " 'rt mleew boy dat cold tyga dwn bad cuffin dat hoe st place',\n",
       " 'rt urkindofbrand dawg rt sbabi life ever fuck bitch start cri confus shit',\n",
       " 'rt c g anderson viva base look like tranni',\n",
       " 'rt shenikarobert shit hear might true might faker bitch told ya',\n",
       " 'madison x shit blow claim faith somebodi still fuck hoe',\n",
       " 'brighterday not sit hate anoth bitch got much shit go',\n",
       " 'selfiequeenbri caus tire big bitch come us skinni girl',\n",
       " 'amp might not get ya bitch back amp that',\n",
       " 'rhythmixx hobbi includ fight mariam bitch']"
      ]
     },
     "execution_count": 3,
     "metadata": {},
     "output_type": "execute_result"
    }
   ],
   "source": [
    "nltk.download('stopwords')\n",
    "from nltk.corpus import stopwords\n",
    "from nltk.stem.porter import PorterStemmer\n",
    "clean_tweet_data = []\n",
    "length = len(X)\n",
    "all_stopwords = stopwords.words('english')\n",
    "all_stopwords.remove('not')\n",
    "for i in range(0,length):\n",
    "  tweet = re.sub(r'https?://\\S+|www\\.\\S+',\"\",X[i],flags = re.MULTILINE)\n",
    "  tweet = re.sub(r'@\\w+\\s*','',X[i])\n",
    "  tweet = re.sub(r'&#\\w+\\s*','',X[i])\n",
    "  tweet = re.sub('[^a-zA-Z]', ' ', X[i])\n",
    "  tweet = tweet.lower()\n",
    "  tweet = tweet.split()\n",
    "  ps = PorterStemmer()\n",
    "  tweet = [ps.stem(word) for word in tweet if not word in set(all_stopwords)]\n",
    "  tweet = ' '.join(tweet)\n",
    "  clean_tweet_data.append(tweet)\n",
    "\n",
    "\n",
    "clean_tweet_data[:10]\n",
    "\n",
    "    \n",
    "  \n",
    "    "
   ]
  },
  {
   "cell_type": "markdown",
   "id": "d900e1a1-30f5-4772-8729-8fdfb7019f02",
   "metadata": {},
   "source": [
    "# Creating the bag of word model"
   ]
  },
  {
   "cell_type": "code",
   "execution_count": 4,
   "id": "8ea10f6e-3ddb-43df-8939-31d99c77ee40",
   "metadata": {},
   "outputs": [
    {
     "name": "stdout",
     "output_type": "stream",
     "text": [
      "[[0 0 0 ... 0 0 0]\n",
      " [0 0 0 ... 0 0 0]\n",
      " [0 0 0 ... 0 0 0]\n",
      " ...\n",
      " [0 0 0 ... 0 0 0]\n",
      " [0 0 0 ... 0 0 0]\n",
      " [0 0 0 ... 0 0 0]]\n"
     ]
    }
   ],
   "source": [
    "from sklearn.feature_extraction.text import CountVectorizer\n",
    "cv = CountVectorizer(max_features = 1500)\n",
    "X = cv.fit_transform(clean_tweet_data).toarray()\n",
    "print(X)\n"
   ]
  },
  {
   "cell_type": "markdown",
   "id": "2d3495a5-0636-453f-bf87-76f461eaab7d",
   "metadata": {},
   "source": [
    "# Splitting dataset into training and test set"
   ]
  },
  {
   "cell_type": "code",
   "execution_count": 5,
   "id": "3320e632-13f9-46b8-91b5-d64740b08cc0",
   "metadata": {},
   "outputs": [],
   "source": [
    "from sklearn.model_selection import train_test_split\n",
    "X_train, X_test, y_train, y_test = train_test_split(X, Y, test_size = 0.20, random_state = 0)\n"
   ]
  },
  {
   "cell_type": "code",
   "execution_count": 6,
   "id": "450782ae-1dec-4265-9415-c5962b0d5aac",
   "metadata": {},
   "outputs": [
    {
     "name": "stdout",
     "output_type": "stream",
     "text": [
      "{0: 1151, 1: 15338, 2: 3337}\n"
     ]
    }
   ],
   "source": [
    "from sklearn.preprocessing import LabelEncoder\n",
    "label_encoder = LabelEncoder()\n",
    "\n",
    "# Encode the labels\n",
    "y_train = label_encoder.fit_transform(y_train)\n",
    "y_test = label_encoder.fit_transform(y_test)\n",
    "count = {\n",
    "    0:0,\n",
    "    1:0,\n",
    "    2:0\n",
    "}\n",
    "\n",
    "for i in y_train:\n",
    "    count[i]+=1\n",
    "\n",
    "print(count)\n"
   ]
  },
  {
   "cell_type": "code",
   "execution_count": 7,
   "id": "52d908a5-e710-44eb-9e54-af6a41d5f94e",
   "metadata": {},
   "outputs": [],
   "source": [
    "from sklearn.linear_model import LogisticRegression\n",
    "from sklearn.tree import DecisionTreeClassifier\n",
    "from sklearn.ensemble import RandomForestClassifier\n",
    "from sklearn.svm import SVC\n",
    "\n",
    "\n",
    "\n",
    "\n",
    "classifier = DecisionTreeClassifier(criterion = 'entropy', random_state = 0)\n",
    "model = LogisticRegression(random_state = 0)\n",
    "classifier2 = RandomForestClassifier(n_estimators = 10, criterion = 'entropy', random_state = 0)\n",
    "classifier2.fit(X_train, y_train)\n",
    "svc = SVC(kernel = 'linear', random_state = 0)\n",
    "\n",
    "model.fit(X_train, y_train)\n",
    "classifier.fit(X_train, y_train)\n",
    "classifier2.fit(X_train, y_train)\n",
    "\n",
    "svc.fit(X_train, y_train)\n",
    "\n",
    "y_pred_svc = svc.predict(X_test)\n",
    "y_pred_log = model.predict(X_test)\n",
    "y_pred_r = classifier.predict(X_test)\n",
    "y_pred_rf = classifier2.predict(X_test)\n"
   ]
  },
  {
   "cell_type": "code",
   "execution_count": 8,
   "id": "8fcfa79b-1389-4a1a-845e-ab33afcdb354",
   "metadata": {},
   "outputs": [
    {
     "name": "stdout",
     "output_type": "stream",
     "text": [
      "log :  0.9019568287270526\n",
      "des :  0.8692757716360702\n",
      "des forest :  0.8930804922332055\n",
      "SVC :  0.9007464192051644\n"
     ]
    }
   ],
   "source": [
    "from sklearn.metrics import accuracy_score,confusion_matrix\n",
    "\n",
    "cm_log = confusion_matrix(y_test,y_pred_log)\n",
    "score_log = accuracy_score(y_test,y_pred_log)\n",
    "\n",
    "score_r = accuracy_score(y_test,y_pred_r)\n",
    "score_rf =accuracy_score(y_test,y_pred_rf)\n",
    "score_sv =accuracy_score(y_test,y_pred_svc)\n",
    "\n",
    "print(\"log : \",score_log)\n",
    "print(\"des : \",score_r)\n",
    "print(\"des forest : \",score_rf)\n",
    "print(\"SVC : \",score_sv)"
   ]
  },
  {
   "cell_type": "code",
   "execution_count": 9,
   "id": "e2d7590d-b57f-416e-9773-3ea8aeb7eb64",
   "metadata": {},
   "outputs": [
    {
     "name": "stdout",
     "output_type": "stream",
     "text": [
      "[1 1 1 ... 1 1 1]\n",
      "Epoch 1/30\n"
     ]
    },
    {
     "name": "stderr",
     "output_type": "stream",
     "text": [
      "C:\\Users\\Brandon Williams\\AppData\\Local\\Programs\\Python\\Python312\\Lib\\site-packages\\keras\\src\\layers\\core\\dense.py:87: UserWarning: Do not pass an `input_shape`/`input_dim` argument to a layer. When using Sequential models, prefer using an `Input(shape)` object as the first layer in the model instead.\n",
      "  super().__init__(activity_regularizer=activity_regularizer, **kwargs)\n"
     ]
    },
    {
     "name": "stdout",
     "output_type": "stream",
     "text": [
      "\u001b[1m310/310\u001b[0m \u001b[32m━━━━━━━━━━━━━━━━━━━━\u001b[0m\u001b[37m\u001b[0m \u001b[1m2s\u001b[0m 4ms/step - accuracy: 0.8316 - loss: 0.4844\n",
      "Epoch 2/30\n",
      "\u001b[1m310/310\u001b[0m \u001b[32m━━━━━━━━━━━━━━━━━━━━\u001b[0m\u001b[37m\u001b[0m \u001b[1m1s\u001b[0m 4ms/step - accuracy: 0.9251 - loss: 0.2118\n",
      "Epoch 3/30\n",
      "\u001b[1m310/310\u001b[0m \u001b[32m━━━━━━━━━━━━━━━━━━━━\u001b[0m\u001b[37m\u001b[0m \u001b[1m1s\u001b[0m 4ms/step - accuracy: 0.9513 - loss: 0.1374\n",
      "Epoch 4/30\n",
      "\u001b[1m310/310\u001b[0m \u001b[32m━━━━━━━━━━━━━━━━━━━━\u001b[0m\u001b[37m\u001b[0m \u001b[1m1s\u001b[0m 4ms/step - accuracy: 0.9706 - loss: 0.0831\n",
      "Epoch 5/30\n",
      "\u001b[1m310/310\u001b[0m \u001b[32m━━━━━━━━━━━━━━━━━━━━\u001b[0m\u001b[37m\u001b[0m \u001b[1m1s\u001b[0m 4ms/step - accuracy: 0.9828 - loss: 0.0513\n",
      "Epoch 6/30\n",
      "\u001b[1m310/310\u001b[0m \u001b[32m━━━━━━━━━━━━━━━━━━━━\u001b[0m\u001b[37m\u001b[0m \u001b[1m1s\u001b[0m 4ms/step - accuracy: 0.9871 - loss: 0.0353\n",
      "Epoch 7/30\n",
      "\u001b[1m310/310\u001b[0m \u001b[32m━━━━━━━━━━━━━━━━━━━━\u001b[0m\u001b[37m\u001b[0m \u001b[1m1s\u001b[0m 4ms/step - accuracy: 0.9899 - loss: 0.0283\n",
      "Epoch 8/30\n",
      "\u001b[1m310/310\u001b[0m \u001b[32m━━━━━━━━━━━━━━━━━━━━\u001b[0m\u001b[37m\u001b[0m \u001b[1m1s\u001b[0m 4ms/step - accuracy: 0.9902 - loss: 0.0235\n",
      "Epoch 9/30\n",
      "\u001b[1m310/310\u001b[0m \u001b[32m━━━━━━━━━━━━━━━━━━━━\u001b[0m\u001b[37m\u001b[0m \u001b[1m1s\u001b[0m 4ms/step - accuracy: 0.9909 - loss: 0.0229\n",
      "Epoch 10/30\n",
      "\u001b[1m310/310\u001b[0m \u001b[32m━━━━━━━━━━━━━━━━━━━━\u001b[0m\u001b[37m\u001b[0m \u001b[1m1s\u001b[0m 4ms/step - accuracy: 0.9911 - loss: 0.0225\n",
      "Epoch 11/30\n",
      "\u001b[1m310/310\u001b[0m \u001b[32m━━━━━━━━━━━━━━━━━━━━\u001b[0m\u001b[37m\u001b[0m \u001b[1m1s\u001b[0m 4ms/step - accuracy: 0.9917 - loss: 0.0206\n",
      "Epoch 12/30\n",
      "\u001b[1m310/310\u001b[0m \u001b[32m━━━━━━━━━━━━━━━━━━━━\u001b[0m\u001b[37m\u001b[0m \u001b[1m1s\u001b[0m 4ms/step - accuracy: 0.9903 - loss: 0.0252\n",
      "Epoch 13/30\n",
      "\u001b[1m310/310\u001b[0m \u001b[32m━━━━━━━━━━━━━━━━━━━━\u001b[0m\u001b[37m\u001b[0m \u001b[1m1s\u001b[0m 4ms/step - accuracy: 0.9922 - loss: 0.0197\n",
      "Epoch 14/30\n",
      "\u001b[1m310/310\u001b[0m \u001b[32m━━━━━━━━━━━━━━━━━━━━\u001b[0m\u001b[37m\u001b[0m \u001b[1m1s\u001b[0m 4ms/step - accuracy: 0.9920 - loss: 0.0179\n",
      "Epoch 15/30\n",
      "\u001b[1m310/310\u001b[0m \u001b[32m━━━━━━━━━━━━━━━━━━━━\u001b[0m\u001b[37m\u001b[0m \u001b[1m1s\u001b[0m 4ms/step - accuracy: 0.9919 - loss: 0.0157\n",
      "Epoch 16/30\n",
      "\u001b[1m310/310\u001b[0m \u001b[32m━━━━━━━━━━━━━━━━━━━━\u001b[0m\u001b[37m\u001b[0m \u001b[1m1s\u001b[0m 4ms/step - accuracy: 0.9932 - loss: 0.0156\n",
      "Epoch 17/30\n",
      "\u001b[1m310/310\u001b[0m \u001b[32m━━━━━━━━━━━━━━━━━━━━\u001b[0m\u001b[37m\u001b[0m \u001b[1m1s\u001b[0m 4ms/step - accuracy: 0.9934 - loss: 0.0129\n",
      "Epoch 18/30\n",
      "\u001b[1m310/310\u001b[0m \u001b[32m━━━━━━━━━━━━━━━━━━━━\u001b[0m\u001b[37m\u001b[0m \u001b[1m1s\u001b[0m 4ms/step - accuracy: 0.9930 - loss: 0.0131\n",
      "Epoch 19/30\n",
      "\u001b[1m310/310\u001b[0m \u001b[32m━━━━━━━━━━━━━━━━━━━━\u001b[0m\u001b[37m\u001b[0m \u001b[1m1s\u001b[0m 4ms/step - accuracy: 0.9936 - loss: 0.0130\n",
      "Epoch 20/30\n",
      "\u001b[1m310/310\u001b[0m \u001b[32m━━━━━━━━━━━━━━━━━━━━\u001b[0m\u001b[37m\u001b[0m \u001b[1m1s\u001b[0m 4ms/step - accuracy: 0.9901 - loss: 0.0194\n",
      "Epoch 21/30\n",
      "\u001b[1m310/310\u001b[0m \u001b[32m━━━━━━━━━━━━━━━━━━━━\u001b[0m\u001b[37m\u001b[0m \u001b[1m1s\u001b[0m 4ms/step - accuracy: 0.9920 - loss: 0.0200\n",
      "Epoch 22/30\n",
      "\u001b[1m310/310\u001b[0m \u001b[32m━━━━━━━━━━━━━━━━━━━━\u001b[0m\u001b[37m\u001b[0m \u001b[1m1s\u001b[0m 4ms/step - accuracy: 0.9912 - loss: 0.0203\n",
      "Epoch 23/30\n",
      "\u001b[1m310/310\u001b[0m \u001b[32m━━━━━━━━━━━━━━━━━━━━\u001b[0m\u001b[37m\u001b[0m \u001b[1m1s\u001b[0m 4ms/step - accuracy: 0.9931 - loss: 0.0171\n",
      "Epoch 24/30\n",
      "\u001b[1m310/310\u001b[0m \u001b[32m━━━━━━━━━━━━━━━━━━━━\u001b[0m\u001b[37m\u001b[0m \u001b[1m1s\u001b[0m 4ms/step - accuracy: 0.9945 - loss: 0.0112\n",
      "Epoch 25/30\n",
      "\u001b[1m310/310\u001b[0m \u001b[32m━━━━━━━━━━━━━━━━━━━━\u001b[0m\u001b[37m\u001b[0m \u001b[1m1s\u001b[0m 4ms/step - accuracy: 0.9946 - loss: 0.0121\n",
      "Epoch 26/30\n",
      "\u001b[1m310/310\u001b[0m \u001b[32m━━━━━━━━━━━━━━━━━━━━\u001b[0m\u001b[37m\u001b[0m \u001b[1m1s\u001b[0m 4ms/step - accuracy: 0.9938 - loss: 0.0124\n",
      "Epoch 27/30\n",
      "\u001b[1m310/310\u001b[0m \u001b[32m━━━━━━━━━━━━━━━━━━━━\u001b[0m\u001b[37m\u001b[0m \u001b[1m1s\u001b[0m 4ms/step - accuracy: 0.9943 - loss: 0.0118\n",
      "Epoch 28/30\n",
      "\u001b[1m310/310\u001b[0m \u001b[32m━━━━━━━━━━━━━━━━━━━━\u001b[0m\u001b[37m\u001b[0m \u001b[1m1s\u001b[0m 4ms/step - accuracy: 0.9943 - loss: 0.0109\n",
      "Epoch 29/30\n",
      "\u001b[1m310/310\u001b[0m \u001b[32m━━━━━━━━━━━━━━━━━━━━\u001b[0m\u001b[37m\u001b[0m \u001b[1m1s\u001b[0m 4ms/step - accuracy: 0.9945 - loss: 0.0111\n",
      "Epoch 30/30\n",
      "\u001b[1m310/310\u001b[0m \u001b[32m━━━━━━━━━━━━━━━━━━━━\u001b[0m\u001b[37m\u001b[0m \u001b[1m1s\u001b[0m 4ms/step - accuracy: 0.9931 - loss: 0.0119\n",
      "\u001b[1m155/155\u001b[0m \u001b[32m━━━━━━━━━━━━━━━━━━━━\u001b[0m\u001b[37m\u001b[0m \u001b[1m0s\u001b[0m 1ms/step\n",
      "ann :  0.8844058906596732\n"
     ]
    }
   ],
   "source": [
    "\n",
    "ann = tf.keras.models.Sequential()\n",
    "ann.add(tf.keras.layers.Dense(units=256, activation='relu',input_shape=(1500,)))\n",
    "ann.add(tf.keras.layers.Dense(units=256, activation='relu'))\n",
    "ann.add(tf.keras.layers.Dense(units=256, activation='relu'))\n",
    "ann.add(tf.keras.layers.Dense(units=128, activation='relu'))\n",
    "ann.add(tf.keras.layers.Dense(units=128, activation='relu'))\n",
    "ann.add(tf.keras.layers.Dense(units = 3, activation='softmax'))\n",
    "\n",
    "ann.compile(optimizer = 'adam', loss='sparse_categorical_crossentropy', metrics = ['accuracy'])\n",
    "print(y_train)\n",
    "ann.fit(X_train, y_train, batch_size = 64, epochs = 30)\n",
    "y_pred_ann = np.argmax(ann.predict(X_test),axis=1)\n",
    "\n",
    "score_an =accuracy_score(y_test,y_pred_ann)\n",
    "print(\"ann : \",score_an)"
   ]
  },
  {
   "cell_type": "code",
   "execution_count": 13,
   "id": "87adb620-274d-4b04-a38b-8afa65d0519f",
   "metadata": {},
   "outputs": [
    {
     "name": "stdout",
     "output_type": "stream",
     "text": [
      "[1]\n",
      "offensive\n"
     ]
    }
   ],
   "source": [
    "import joblib\n",
    "prediction = [\"hate_speech\",\"offensive\",\"Normal\"]\n",
    "text_data= []\n",
    "\n",
    "\n",
    "#model_tree = joblib.load('nsfw_text.h5')\n",
    "#vectorizer_text = joblib.load('vector_text.joblib')\n",
    "text = ''' you are retarded  '''\n",
    "# text_array = text.split('.')\n",
    "# length = len(text_array)\n",
    "# for text in text_array:\n",
    "    \n",
    "text = re.sub('[^a-zA-Z]', ' ', text)\n",
    "text = text.lower()\n",
    "text = text.split()\n",
    "ps = PorterStemmer()\n",
    "text = [ps.stem(word) for word in text if not word in set(all_stopwords)]\n",
    "text = ' '.join(text)\n",
    "text_data.append(text)\n",
    "\n",
    "\n",
    "\n",
    "\n",
    "text_pro = cv.transform(text_data).toarray()\n",
    "flag = True\n",
    "\n",
    "y_p = svc.predict(text_pro)\n",
    "# for i in range(0, len(text_pro)):\n",
    "#     y_p = svc.predict([text_pro[i]])\n",
    "#     if  y_p[0] == 0 or y_p[0] == 1:\n",
    "#         print(\"Line Number : \",i+1,\"\",text_data[i],prediction[y_p[0]])\n",
    "#         flag = False\n",
    "\n",
    "# if flag:\n",
    "#    print(\"Clean text\") \n",
    "print(y_p)\n",
    "print(prediction[y_p[0]])\n",
    "\n",
    "# joblib.dump(svc, 'text_filter_svc.h5')\n",
    "# joblib.dump(cv, 'vectorizer.joblib')\n"
   ]
  },
  {
   "cell_type": "code",
   "execution_count": null,
   "id": "2f115657-3973-4c6d-9db1-25cbab49d0c4",
   "metadata": {},
   "outputs": [],
   "source": []
  }
 ],
 "metadata": {
  "kernelspec": {
   "display_name": "Python 3 (ipykernel)",
   "language": "python",
   "name": "python3"
  },
  "language_info": {
   "codemirror_mode": {
    "name": "ipython",
    "version": 3
   },
   "file_extension": ".py",
   "mimetype": "text/x-python",
   "name": "python",
   "nbconvert_exporter": "python",
   "pygments_lexer": "ipython3",
   "version": "3.12.3"
  }
 },
 "nbformat": 4,
 "nbformat_minor": 5
}
