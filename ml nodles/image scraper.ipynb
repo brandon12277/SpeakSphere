{
 "cells": [
  {
   "cell_type": "code",
   "execution_count": 29,
   "id": "ca6af6c2-ee12-4f92-a67e-879ac34309aa",
   "metadata": {},
   "outputs": [],
   "source": [
    "import os\n",
    "import requests\n",
    "from bs4 import BeautifulSoup\n",
    "from urllib.parse import urljoin, urlparse\n",
    "\n",
    "def scrape_images(url, output_folder):\n",
    "    # Make a GET request to the URL\n",
    "    response = requests.get(url)\n",
    "\n",
    "    # Check if the request was successful (status code 200)\n",
    "    if response.status_code == 200:\n",
    "        # Parse the HTML content of the page\n",
    "        soup = BeautifulSoup(response.content, 'html.parser')\n",
    "\n",
    "        # Find all image tags on the page\n",
    "        img_tags = soup.find_all('img')\n",
    "\n",
    "        # Create the folder if it doesn't exist\n",
    "        if not os.path.exists(output_folder):\n",
    "            os.makedirs(output_folder)\n",
    "\n",
    "        # Download and save each image\n",
    "        count = 0\n",
    "        for img_tag in img_tags:\n",
    "            img_url = img_tag.get('src')  # Get the 'src' attribute of the image tag\n",
    "            if img_url:\n",
    "                img_url = urljoin(url, img_url)  # Convert relative URLs to absolute URLs\n",
    "\n",
    "                # Get the image filename from the URL\n",
    "                img_filename = os.path.basename(urlparse(img_url).path)\n",
    "\n",
    "                # Download the image\n",
    "                img_data = requests.get(img_url).content\n",
    "                img_path = os.path.join(output_folder, img_filename)\n",
    "\n",
    "                with open(img_path, 'wb') as img_file:\n",
    "                    img_file.write(img_data)\n",
    "\n",
    "                print(f\"Image '{img_filename}{count}' downloaded and saved.\")\n",
    "\n",
    "    else:\n",
    "        print(f\"Failed to retrieve the page. Status code: {response.status_code}\")\n",
    "\n",
    "# Example usage\n",
    "website_url = ''\n",
    "output_folder = 'images/gory'\n",
    "\n",
    "scrape_images(website_url, output_folder)"
   ]
  },
  {
   "cell_type": "code",
   "execution_count": null,
   "id": "45abec82-9f91-4e9c-9b39-03e0c3050592",
   "metadata": {},
   "outputs": [],
   "source": []
  }
 ],
 "metadata": {
  "kernelspec": {
   "display_name": "Python 3 (ipykernel)",
   "language": "python",
   "name": "python3"
  },
  "language_info": {
   "codemirror_mode": {
    "name": "ipython",
    "version": 3
   },
   "file_extension": ".py",
   "mimetype": "text/x-python",
   "name": "python",
   "nbconvert_exporter": "python",
   "pygments_lexer": "ipython3",
   "version": "3.11.6"
  }
 },
 "nbformat": 4,
 "nbformat_minor": 5
}
