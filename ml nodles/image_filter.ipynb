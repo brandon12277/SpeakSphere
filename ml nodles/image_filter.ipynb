{
 "cells": [
  {
   "cell_type": "markdown",
   "id": "62de2642-3219-4a6d-b220-ab955cf9b554",
   "metadata": {},
   "source": [
    "# Importing libraries"
   ]
  },
  {
   "cell_type": "code",
   "execution_count": 52,
   "id": "1cc99db4-6642-4e46-909b-d4559ce22a44",
   "metadata": {},
   "outputs": [],
   "source": [
    "import numpy as np\n",
    "import pandas as pd\n",
    "import tensorflow as tf\n",
    "from tensorflow.keras.preprocessing.image import ImageDataGenerator\n",
    "import os\n",
    "import requests\n",
    "from bs4 import BeautifulSoup\n",
    "from urllib.parse import urljoin, urlparse"
   ]
  },
  {
   "cell_type": "markdown",
   "id": "5ed74d4d-1c58-4862-bc81-3f8202d26ece",
   "metadata": {},
   "source": [
    "# Training set preprocessing "
   ]
  },
  {
   "cell_type": "code",
   "execution_count": 53,
   "id": "ebda6a7a-e1d7-4720-bb9f-ac768eca4a5e",
   "metadata": {},
   "outputs": [
    {
     "name": "stdout",
     "output_type": "stream",
     "text": [
      "Found 1244 images belonging to 3 classes.\n"
     ]
    }
   ],
   "source": [
    "train_datagen = ImageDataGenerator(rescale = 1./255,\n",
    "                                   shear_range = 0.2,\n",
    "                                   horizontal_flip = True)\n",
    "training_set = train_datagen.flow_from_directory('images/training set',\n",
    "                                                 target_size = (64, 64),\n",
    "                                                 batch_size = 32,\n",
    "                                                 class_mode = 'categorical')"
   ]
  },
  {
   "cell_type": "markdown",
   "id": "0cf16006-2119-49c7-b9f7-e6eb65df38f1",
   "metadata": {},
   "source": [
    "# test set preprocessing"
   ]
  },
  {
   "cell_type": "code",
   "execution_count": 54,
   "id": "abd9f9a7-e9cc-4d1b-b2f3-88bd62ffbf7c",
   "metadata": {},
   "outputs": [
    {
     "name": "stdout",
     "output_type": "stream",
     "text": [
      "Found 79 images belonging to 3 classes.\n"
     ]
    }
   ],
   "source": [
    "test_datagen = ImageDataGenerator(rescale = 1./255)\n",
    "test_set = test_datagen.flow_from_directory('images/test set',\n",
    "                                            target_size = (64, 64),\n",
    "                                            batch_size = 32,\n",
    "                                            class_mode = 'categorical')"
   ]
  },
  {
   "cell_type": "markdown",
   "id": "f6ee05d6-b452-4591-a8b3-18c1737b01ee",
   "metadata": {},
   "source": [
    "# Create Sequential model"
   ]
  },
  {
   "cell_type": "code",
   "execution_count": 55,
   "id": "d7efbaa5-bee0-4386-808f-3ecba6aa5a4c",
   "metadata": {},
   "outputs": [],
   "source": [
    "cnn = tf.keras.models.Sequential()"
   ]
  },
  {
   "cell_type": "markdown",
   "id": "992b9474-4549-4b9a-ae54-37905944c43b",
   "metadata": {},
   "source": [
    "# First Convolutional and Pooling Layer"
   ]
  },
  {
   "cell_type": "code",
   "execution_count": 56,
   "id": "e957c88f-dfba-49b2-8bae-1fa4870544fb",
   "metadata": {},
   "outputs": [],
   "source": [
    "cnn.add(tf.keras.layers.Conv2D(filters=32, kernel_size=3, activation='relu', input_shape=[64, 64, 3]))\n",
    "cnn.add(tf.keras.layers.MaxPool2D(pool_size=2, strides=2))"
   ]
  },
  {
   "cell_type": "markdown",
   "id": "f6979589-586d-457a-8a52-bcb703e88eb6",
   "metadata": {},
   "source": [
    "# Second Convolutional and Pooling Layer"
   ]
  },
  {
   "cell_type": "code",
   "execution_count": 57,
   "id": "a924c21b-9580-465b-b544-59de071b28fe",
   "metadata": {},
   "outputs": [],
   "source": [
    "cnn.add(tf.keras.layers.Conv2D(filters=32, kernel_size=3, activation='relu'))\n",
    "cnn.add(tf.keras.layers.MaxPool2D(pool_size=2, strides=2))"
   ]
  },
  {
   "cell_type": "markdown",
   "id": "9e94ccfc-9b2e-408c-886d-146e0b644e7d",
   "metadata": {},
   "source": [
    "# Flattening"
   ]
  },
  {
   "cell_type": "code",
   "execution_count": 58,
   "id": "3e6f8e15-80aa-48f2-8b18-10b7f11be211",
   "metadata": {},
   "outputs": [],
   "source": [
    "cnn.add(tf.keras.layers.Flatten())"
   ]
  },
  {
   "cell_type": "markdown",
   "id": "064d8607-b329-454c-9f97-d1e5f992a85f",
   "metadata": {},
   "source": [
    "# Added Dense Layers and output layers"
   ]
  },
  {
   "cell_type": "code",
   "execution_count": 59,
   "id": "004027f5-d513-4e92-9b0c-2ff0391679da",
   "metadata": {},
   "outputs": [],
   "source": [
    "cnn.add(tf.keras.layers.Dense(units=128, activation='relu'))\n",
    "cnn.add(tf.keras.layers.Dense(units=3, activation='softmax'))"
   ]
  },
  {
   "cell_type": "markdown",
   "id": "adf4b90e-d060-4824-bf64-7c3ebece4009",
   "metadata": {},
   "source": [
    "# Compiling the model"
   ]
  },
  {
   "cell_type": "code",
   "execution_count": 60,
   "id": "1fc8a3e6-1349-4a19-939a-4ceeb3a6c156",
   "metadata": {},
   "outputs": [],
   "source": [
    "cnn.compile(optimizer = 'adam', loss = 'categorical_crossentropy', metrics = ['accuracy'])"
   ]
  },
  {
   "cell_type": "markdown",
   "id": "59589fc9-3634-4d8a-b116-68eea71b3dd6",
   "metadata": {},
   "source": [
    "# Training the model"
   ]
  },
  {
   "cell_type": "code",
   "execution_count": 61,
   "id": "9dfd53df-6c74-473b-980c-ee32ffa0196c",
   "metadata": {},
   "outputs": [
    {
     "name": "stdout",
     "output_type": "stream",
     "text": [
      "Epoch 1/15\n",
      "\u001b[1m39/39\u001b[0m \u001b[32m━━━━━━━━━━━━━━━━━━━━\u001b[0m\u001b[37m\u001b[0m \u001b[1m7s\u001b[0m 136ms/step - accuracy: 0.4854 - loss: 1.0462 - val_accuracy: 0.5190 - val_loss: 0.9474\n",
      "Epoch 2/15\n",
      "\u001b[1m39/39\u001b[0m \u001b[32m━━━━━━━━━━━━━━━━━━━━\u001b[0m\u001b[37m\u001b[0m \u001b[1m4s\u001b[0m 101ms/step - accuracy: 0.6131 - loss: 0.8237 - val_accuracy: 0.7089 - val_loss: 0.7061\n",
      "Epoch 3/15\n",
      "\u001b[1m39/39\u001b[0m \u001b[32m━━━━━━━━━━━━━━━━━━━━\u001b[0m\u001b[37m\u001b[0m \u001b[1m5s\u001b[0m 110ms/step - accuracy: 0.7032 - loss: 0.6744 - val_accuracy: 0.7342 - val_loss: 0.6388\n",
      "Epoch 4/15\n",
      "\u001b[1m39/39\u001b[0m \u001b[32m━━━━━━━━━━━━━━━━━━━━\u001b[0m\u001b[37m\u001b[0m \u001b[1m5s\u001b[0m 104ms/step - accuracy: 0.7391 - loss: 0.6234 - val_accuracy: 0.7468 - val_loss: 0.6407\n",
      "Epoch 5/15\n",
      "\u001b[1m39/39\u001b[0m \u001b[32m━━━━━━━━━━━━━━━━━━━━\u001b[0m\u001b[37m\u001b[0m \u001b[1m4s\u001b[0m 100ms/step - accuracy: 0.7677 - loss: 0.5856 - val_accuracy: 0.7848 - val_loss: 0.5392\n",
      "Epoch 6/15\n",
      "\u001b[1m39/39\u001b[0m \u001b[32m━━━━━━━━━━━━━━━━━━━━\u001b[0m\u001b[37m\u001b[0m \u001b[1m5s\u001b[0m 100ms/step - accuracy: 0.7878 - loss: 0.5171 - val_accuracy: 0.7595 - val_loss: 0.5534\n",
      "Epoch 7/15\n",
      "\u001b[1m39/39\u001b[0m \u001b[32m━━━━━━━━━━━━━━━━━━━━\u001b[0m\u001b[37m\u001b[0m \u001b[1m4s\u001b[0m 103ms/step - accuracy: 0.7967 - loss: 0.5160 - val_accuracy: 0.8481 - val_loss: 0.4544\n",
      "Epoch 8/15\n",
      "\u001b[1m39/39\u001b[0m \u001b[32m━━━━━━━━━━━━━━━━━━━━\u001b[0m\u001b[37m\u001b[0m \u001b[1m4s\u001b[0m 106ms/step - accuracy: 0.8115 - loss: 0.4443 - val_accuracy: 0.8228 - val_loss: 0.3847\n",
      "Epoch 9/15\n",
      "\u001b[1m39/39\u001b[0m \u001b[32m━━━━━━━━━━━━━━━━━━━━\u001b[0m\u001b[37m\u001b[0m \u001b[1m5s\u001b[0m 105ms/step - accuracy: 0.8749 - loss: 0.3267 - val_accuracy: 0.8228 - val_loss: 0.4148\n",
      "Epoch 10/15\n",
      "\u001b[1m39/39\u001b[0m \u001b[32m━━━━━━━━━━━━━━━━━━━━\u001b[0m\u001b[37m\u001b[0m \u001b[1m5s\u001b[0m 109ms/step - accuracy: 0.8697 - loss: 0.3320 - val_accuracy: 0.8861 - val_loss: 0.3593\n",
      "Epoch 11/15\n",
      "\u001b[1m39/39\u001b[0m \u001b[32m━━━━━━━━━━━━━━━━━━━━\u001b[0m\u001b[37m\u001b[0m \u001b[1m4s\u001b[0m 104ms/step - accuracy: 0.9079 - loss: 0.2596 - val_accuracy: 0.8734 - val_loss: 0.3488\n",
      "Epoch 12/15\n",
      "\u001b[1m39/39\u001b[0m \u001b[32m━━━━━━━━━━━━━━━━━━━━\u001b[0m\u001b[37m\u001b[0m \u001b[1m4s\u001b[0m 105ms/step - accuracy: 0.9150 - loss: 0.2477 - val_accuracy: 0.8734 - val_loss: 0.3365\n",
      "Epoch 13/15\n",
      "\u001b[1m39/39\u001b[0m \u001b[32m━━━━━━━━━━━━━━━━━━━━\u001b[0m\u001b[37m\u001b[0m \u001b[1m5s\u001b[0m 104ms/step - accuracy: 0.9203 - loss: 0.2386 - val_accuracy: 0.8608 - val_loss: 0.4395\n",
      "Epoch 14/15\n",
      "\u001b[1m39/39\u001b[0m \u001b[32m━━━━━━━━━━━━━━━━━━━━\u001b[0m\u001b[37m\u001b[0m \u001b[1m4s\u001b[0m 103ms/step - accuracy: 0.9195 - loss: 0.2108 - val_accuracy: 0.9494 - val_loss: 0.2620\n",
      "Epoch 15/15\n",
      "\u001b[1m39/39\u001b[0m \u001b[32m━━━━━━━━━━━━━━━━━━━━\u001b[0m\u001b[37m\u001b[0m \u001b[1m5s\u001b[0m 101ms/step - accuracy: 0.9591 - loss: 0.1312 - val_accuracy: 0.9494 - val_loss: 0.2278\n"
     ]
    },
    {
     "data": {
      "text/plain": [
       "<keras.src.callbacks.history.History at 0x1eba10571a0>"
      ]
     },
     "execution_count": 61,
     "metadata": {},
     "output_type": "execute_result"
    }
   ],
   "source": [
    "cnn.fit(x = training_set, validation_data = test_set, epochs =15)"
   ]
  },
  {
   "cell_type": "markdown",
   "id": "c2f2c6bc-50fc-4ae0-9592-d59b0cbf32c8",
   "metadata": {},
   "source": [
    "# Testing the Model"
   ]
  },
  {
   "cell_type": "code",
   "execution_count": 63,
   "id": "f2cffece-41e5-4e30-b72c-5fee24856f99",
   "metadata": {},
   "outputs": [
    {
     "name": "stdout",
     "output_type": "stream",
     "text": [
      "\u001b[1m1/1\u001b[0m \u001b[32m━━━━━━━━━━━━━━━━━━━━\u001b[0m\u001b[37m\u001b[0m \u001b[1m0s\u001b[0m 15ms/step\n",
      "[[1.000000e+00 5.671417e-31 0.000000e+00]]\n",
      "gory\n"
     ]
    }
   ],
   "source": [
    "import os\n",
    "from keras.preprocessing import image\n",
    "import joblib\n",
    "\n",
    "\n",
    "\n",
    "\n",
    "\n",
    "classes =[\"gory\",\"random\",\"sexual\"]\n",
    "\n",
    "def image_processing(path):\n",
    "    test_image = image.load_img(path, target_size = (64, 64))\n",
    "    test_image = image.img_to_array(test_image)\n",
    "    test_image = np.expand_dims(test_image, axis = 0)\n",
    "    return test_image\n",
    "\n",
    "\n",
    "result = cnn.predict(image_processing('gor2.jpg'))\n",
    "print(result)\n",
    "if result[0][0] == 1:\n",
    "    print(\"gory\")\n",
    "\n",
    "elif result[0][1] == 1:\n",
    "    print(\"random\")\n",
    "else:\n",
    "    print(\"sexual\")\n",
    "\n"
   ]
  },
  {
   "cell_type": "code",
   "execution_count": null,
   "id": "be337b01-33a9-404e-942a-c844de30c6c3",
   "metadata": {},
   "outputs": [],
   "source": []
  }
 ],
 "metadata": {
  "kernelspec": {
   "display_name": "Python 3 (ipykernel)",
   "language": "python",
   "name": "python3"
  },
  "language_info": {
   "codemirror_mode": {
    "name": "ipython",
    "version": 3
   },
   "file_extension": ".py",
   "mimetype": "text/x-python",
   "name": "python",
   "nbconvert_exporter": "python",
   "pygments_lexer": "ipython3",
   "version": "3.12.3"
  }
 },
 "nbformat": 4,
 "nbformat_minor": 5
}
