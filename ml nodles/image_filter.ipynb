{
 "cells": [
  {
   "cell_type": "code",
   "execution_count": 4,
   "id": "1cc99db4-6642-4e46-909b-d4559ce22a44",
   "metadata": {},
   "outputs": [],
   "source": [
    "import numpy as np\n",
    "import pandas as pd\n",
    "import tensorflow as tf\n",
    "from keras.preprocessing.image import ImageDataGenerator"
   ]
  },
  {
   "cell_type": "markdown",
   "id": "5ed74d4d-1c58-4862-bc81-3f8202d26ece",
   "metadata": {},
   "source": [
    "# Training set preprocessing "
   ]
  },
  {
   "cell_type": "code",
   "execution_count": 92,
   "id": "ebda6a7a-e1d7-4720-bb9f-ac768eca4a5e",
   "metadata": {},
   "outputs": [
    {
     "name": "stdout",
     "output_type": "stream",
     "text": [
      "Found 981 images belonging to 3 classes.\n"
     ]
    }
   ],
   "source": [
    "train_datagen = ImageDataGenerator(rescale = 1./255,\n",
    "                                   shear_range = 0.2,\n",
    "                                   horizontal_flip = True)\n",
    "training_set = train_datagen.flow_from_directory('images/training set',\n",
    "                                                 target_size = (64, 64),\n",
    "                                                 batch_size = 32,\n",
    "                                                 class_mode = 'categorical')"
   ]
  },
  {
   "cell_type": "markdown",
   "id": "0cf16006-2119-49c7-b9f7-e6eb65df38f1",
   "metadata": {},
   "source": [
    "# test set preprocessing"
   ]
  },
  {
   "cell_type": "code",
   "execution_count": 93,
   "id": "abd9f9a7-e9cc-4d1b-b2f3-88bd62ffbf7c",
   "metadata": {},
   "outputs": [
    {
     "name": "stdout",
     "output_type": "stream",
     "text": [
      "Found 73 images belonging to 3 classes.\n"
     ]
    }
   ],
   "source": [
    "test_datagen = ImageDataGenerator(rescale = 1./255)\n",
    "test_set = test_datagen.flow_from_directory('images/test set',\n",
    "                                            target_size = (64, 64),\n",
    "                                            batch_size = 32,\n",
    "                                            class_mode = 'categorical')"
   ]
  },
  {
   "cell_type": "code",
   "execution_count": 94,
   "id": "0d9c9e3b-6eaa-4f1e-bed9-989645f7385c",
   "metadata": {},
   "outputs": [
    {
     "name": "stdout",
     "output_type": "stream",
     "text": [
      "Epoch 1/15\n",
      "31/31 [==============================] - 4s 127ms/step - loss: 0.9909 - accuracy: 0.5250 - val_loss: 0.5247 - val_accuracy: 0.9041\n",
      "Epoch 2/15\n",
      "31/31 [==============================] - 4s 120ms/step - loss: 0.8324 - accuracy: 0.6371 - val_loss: 0.5160 - val_accuracy: 0.8767\n",
      "Epoch 3/15\n",
      "31/31 [==============================] - 4s 118ms/step - loss: 0.7521 - accuracy: 0.6860 - val_loss: 0.3522 - val_accuracy: 0.9041\n",
      "Epoch 4/15\n",
      "31/31 [==============================] - 4s 123ms/step - loss: 0.6614 - accuracy: 0.7329 - val_loss: 0.3990 - val_accuracy: 0.8493\n",
      "Epoch 5/15\n",
      "31/31 [==============================] - 4s 124ms/step - loss: 0.6373 - accuracy: 0.7492 - val_loss: 0.4451 - val_accuracy: 0.8219\n",
      "Epoch 6/15\n",
      "31/31 [==============================] - 4s 124ms/step - loss: 0.5556 - accuracy: 0.7819 - val_loss: 0.3944 - val_accuracy: 0.8630\n",
      "Epoch 7/15\n",
      "31/31 [==============================] - 4s 123ms/step - loss: 0.5434 - accuracy: 0.8012 - val_loss: 0.4197 - val_accuracy: 0.9178\n",
      "Epoch 8/15\n",
      "31/31 [==============================] - 4s 123ms/step - loss: 0.5234 - accuracy: 0.7951 - val_loss: 0.3140 - val_accuracy: 0.9178\n",
      "Epoch 9/15\n",
      "31/31 [==============================] - 4s 121ms/step - loss: 0.4279 - accuracy: 0.8532 - val_loss: 0.3550 - val_accuracy: 0.8904\n",
      "Epoch 10/15\n",
      "31/31 [==============================] - 4s 121ms/step - loss: 0.3426 - accuracy: 0.8889 - val_loss: 0.4014 - val_accuracy: 0.7945\n",
      "Epoch 11/15\n",
      "31/31 [==============================] - 4s 120ms/step - loss: 0.2988 - accuracy: 0.9001 - val_loss: 0.2668 - val_accuracy: 0.9178\n",
      "Epoch 12/15\n",
      "31/31 [==============================] - 4s 118ms/step - loss: 0.2629 - accuracy: 0.9195 - val_loss: 0.4310 - val_accuracy: 0.8356\n",
      "Epoch 13/15\n",
      "31/31 [==============================] - 4s 119ms/step - loss: 0.2368 - accuracy: 0.9276 - val_loss: 0.5799 - val_accuracy: 0.7671\n",
      "Epoch 14/15\n",
      "31/31 [==============================] - 4s 122ms/step - loss: 0.2006 - accuracy: 0.9388 - val_loss: 0.4093 - val_accuracy: 0.8082\n",
      "Epoch 15/15\n",
      "31/31 [==============================] - 4s 124ms/step - loss: 0.1699 - accuracy: 0.9541 - val_loss: 0.3839 - val_accuracy: 0.8493\n"
     ]
    },
    {
     "data": {
      "text/plain": [
       "<keras.src.callbacks.History at 0x22d2ecefe90>"
      ]
     },
     "execution_count": 94,
     "metadata": {},
     "output_type": "execute_result"
    }
   ],
   "source": [
    "cnn = tf.keras.models.Sequential()\n",
    "\n",
    "cnn.add(tf.keras.layers.Conv2D(filters=32, kernel_size=3, activation='relu', input_shape=[64, 64, 3]))\n",
    "cnn.add(tf.keras.layers.MaxPool2D(pool_size=2, strides=2))\n",
    "\n",
    "cnn.add(tf.keras.layers.Conv2D(filters=32, kernel_size=3, activation='relu', input_shape=[64, 64, 3]))\n",
    "cnn.add(tf.keras.layers.MaxPool2D(pool_size=2, strides=2))\n",
    "\n",
    "cnn.add(tf.keras.layers.Flatten())\n",
    "cnn.add(tf.keras.layers.Dense(units=128, activation='relu'))\n",
    "cnn.add(tf.keras.layers.Dense(units=3, activation='softmax'))\n",
    "\n",
    "cnn.compile(optimizer = 'adam', loss = 'categorical_crossentropy', metrics = ['accuracy'])\n",
    "cnn.fit(x = training_set, validation_data = test_set, epochs = 15)"
   ]
  },
  {
   "cell_type": "code",
   "execution_count": 5,
   "id": "f2cffece-41e5-4e30-b72c-5fee24856f99",
   "metadata": {},
   "outputs": [
    {
     "name": "stdout",
     "output_type": "stream",
     "text": [
      "1/1 [==============================] - 0s 399ms/step\n",
      "[[0.0000000e+00 1.0000000e+00 1.6959816e-33]]\n",
      "random\n"
     ]
    }
   ],
   "source": [
    "import os\n",
    "from keras.preprocessing import image\n",
    "import joblib\n",
    "\n",
    "imagefil = joblib.load(\"image_filter.h5\")\n",
    "\n",
    "\n",
    "\n",
    "classes =[\"gory\",\"random\",\"sexual\"]\n",
    "\n",
    "def image_processing(path):\n",
    "    test_image = image.load_img(path, target_size = (64, 64))\n",
    "    test_image = image.img_to_array(test_image)\n",
    "    test_image = np.expand_dims(test_image, axis = 0)\n",
    "    return test_image\n",
    "\n",
    "result = imagefil.predict(image_processing('random person.jpeg'))\n",
    "print(result)\n",
    "if result[0][0] == 1:\n",
    "    print(\"gory\")\n",
    "\n",
    "elif result[0][1] == 1:\n",
    "    print(\"random\")\n",
    "else:\n",
    "    print(\"sexual\")\n",
    "\n",
    "            "
   ]
  },
  {
   "cell_type": "code",
   "execution_count": null,
   "id": "be337b01-33a9-404e-942a-c844de30c6c3",
   "metadata": {},
   "outputs": [],
   "source": []
  }
 ],
 "metadata": {
  "kernelspec": {
   "display_name": "Python 3 (ipykernel)",
   "language": "python",
   "name": "python3"
  },
  "language_info": {
   "codemirror_mode": {
    "name": "ipython",
    "version": 3
   },
   "file_extension": ".py",
   "mimetype": "text/x-python",
   "name": "python",
   "nbconvert_exporter": "python",
   "pygments_lexer": "ipython3",
   "version": "3.11.6"
  }
 },
 "nbformat": 4,
 "nbformat_minor": 5
}
