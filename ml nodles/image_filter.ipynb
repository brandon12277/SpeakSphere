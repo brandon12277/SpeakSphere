{
 "cells": [
  {
   "cell_type": "code",
   "execution_count": 1,
   "id": "1cc99db4-6642-4e46-909b-d4559ce22a44",
   "metadata": {},
   "outputs": [
    {
     "name": "stdout",
     "output_type": "stream",
     "text": [
      "WARNING:tensorflow:From C:\\Users\\brandon\\AppData\\Local\\Programs\\Python\\Python311\\Lib\\site-packages\\keras\\src\\losses.py:2976: The name tf.losses.sparse_softmax_cross_entropy is deprecated. Please use tf.compat.v1.losses.sparse_softmax_cross_entropy instead.\n",
      "\n"
     ]
    }
   ],
   "source": [
    "import numpy as np\n",
    "import pandas as pd\n",
    "import tensorflow as tf\n",
    "from keras.preprocessing.image import ImageDataGenerator"
   ]
  },
  {
   "cell_type": "markdown",
   "id": "5ed74d4d-1c58-4862-bc81-3f8202d26ece",
   "metadata": {},
   "source": [
    "# Training set preprocessing "
   ]
  },
  {
   "cell_type": "code",
   "execution_count": 2,
   "id": "ebda6a7a-e1d7-4720-bb9f-ac768eca4a5e",
   "metadata": {},
   "outputs": [
    {
     "name": "stdout",
     "output_type": "stream",
     "text": [
      "Found 980 images belonging to 3 classes.\n"
     ]
    }
   ],
   "source": [
    "train_datagen = ImageDataGenerator(rescale = 1./255,\n",
    "                                   shear_range = 0.2,\n",
    "                                   horizontal_flip = True)\n",
    "training_set = train_datagen.flow_from_directory('images/training set',\n",
    "                                                 target_size = (64, 64),\n",
    "                                                 batch_size = 32,\n",
    "                                                 class_mode = 'categorical')"
   ]
  },
  {
   "cell_type": "markdown",
   "id": "0cf16006-2119-49c7-b9f7-e6eb65df38f1",
   "metadata": {},
   "source": [
    "# test set preprocessing"
   ]
  },
  {
   "cell_type": "code",
   "execution_count": 3,
   "id": "abd9f9a7-e9cc-4d1b-b2f3-88bd62ffbf7c",
   "metadata": {},
   "outputs": [
    {
     "name": "stdout",
     "output_type": "stream",
     "text": [
      "Found 73 images belonging to 3 classes.\n"
     ]
    }
   ],
   "source": [
    "test_datagen = ImageDataGenerator(rescale = 1./255)\n",
    "test_set = test_datagen.flow_from_directory('images/test set',\n",
    "                                            target_size = (64, 64),\n",
    "                                            batch_size = 32,\n",
    "                                            class_mode = 'categorical')"
   ]
  },
  {
   "cell_type": "code",
   "execution_count": 4,
   "id": "0d9c9e3b-6eaa-4f1e-bed9-989645f7385c",
   "metadata": {},
   "outputs": [
    {
     "name": "stdout",
     "output_type": "stream",
     "text": [
      "WARNING:tensorflow:From C:\\Users\\brandon\\AppData\\Local\\Programs\\Python\\Python311\\Lib\\site-packages\\keras\\src\\backend.py:873: The name tf.get_default_graph is deprecated. Please use tf.compat.v1.get_default_graph instead.\n",
      "\n",
      "WARNING:tensorflow:From C:\\Users\\brandon\\AppData\\Local\\Programs\\Python\\Python311\\Lib\\site-packages\\keras\\src\\layers\\pooling\\max_pooling2d.py:161: The name tf.nn.max_pool is deprecated. Please use tf.nn.max_pool2d instead.\n",
      "\n",
      "WARNING:tensorflow:From C:\\Users\\brandon\\AppData\\Local\\Programs\\Python\\Python311\\Lib\\site-packages\\keras\\src\\optimizers\\__init__.py:309: The name tf.train.Optimizer is deprecated. Please use tf.compat.v1.train.Optimizer instead.\n",
      "\n",
      "Epoch 1/15\n",
      "WARNING:tensorflow:From C:\\Users\\brandon\\AppData\\Local\\Programs\\Python\\Python311\\Lib\\site-packages\\keras\\src\\utils\\tf_utils.py:492: The name tf.ragged.RaggedTensorValue is deprecated. Please use tf.compat.v1.ragged.RaggedTensorValue instead.\n",
      "\n",
      "WARNING:tensorflow:From C:\\Users\\brandon\\AppData\\Local\\Programs\\Python\\Python311\\Lib\\site-packages\\keras\\src\\engine\\base_layer_utils.py:384: The name tf.executing_eagerly_outside_functions is deprecated. Please use tf.compat.v1.executing_eagerly_outside_functions instead.\n",
      "\n",
      "31/31 [==============================] - 6s 155ms/step - loss: 1.0631 - accuracy: 0.4480 - val_loss: 0.7435 - val_accuracy: 0.8082\n",
      "Epoch 2/15\n",
      "31/31 [==============================] - 4s 144ms/step - loss: 0.9540 - accuracy: 0.5541 - val_loss: 0.7002 - val_accuracy: 0.8767\n",
      "Epoch 3/15\n",
      "31/31 [==============================] - 4s 123ms/step - loss: 0.8428 - accuracy: 0.6010 - val_loss: 0.5338 - val_accuracy: 0.8630\n",
      "Epoch 4/15\n",
      "31/31 [==============================] - 4s 121ms/step - loss: 0.7717 - accuracy: 0.6500 - val_loss: 0.4738 - val_accuracy: 0.8767\n",
      "Epoch 5/15\n",
      "31/31 [==============================] - 4s 120ms/step - loss: 0.6545 - accuracy: 0.7224 - val_loss: 0.5009 - val_accuracy: 0.8219\n",
      "Epoch 6/15\n",
      "31/31 [==============================] - 4s 118ms/step - loss: 0.6417 - accuracy: 0.7500 - val_loss: 0.4051 - val_accuracy: 0.8904\n",
      "Epoch 7/15\n",
      "31/31 [==============================] - 4s 120ms/step - loss: 0.5695 - accuracy: 0.7673 - val_loss: 0.4425 - val_accuracy: 0.8767\n",
      "Epoch 8/15\n",
      "31/31 [==============================] - 4s 118ms/step - loss: 0.4815 - accuracy: 0.8031 - val_loss: 0.4164 - val_accuracy: 0.8356\n",
      "Epoch 9/15\n",
      "31/31 [==============================] - 4s 126ms/step - loss: 0.4676 - accuracy: 0.8306 - val_loss: 0.6473 - val_accuracy: 0.7397\n",
      "Epoch 10/15\n",
      "31/31 [==============================] - 4s 123ms/step - loss: 0.3884 - accuracy: 0.8663 - val_loss: 0.3195 - val_accuracy: 0.9041\n",
      "Epoch 11/15\n",
      "31/31 [==============================] - 4s 120ms/step - loss: 0.3190 - accuracy: 0.8847 - val_loss: 0.4150 - val_accuracy: 0.8082\n",
      "Epoch 12/15\n",
      "31/31 [==============================] - 4s 125ms/step - loss: 0.2942 - accuracy: 0.9051 - val_loss: 0.2458 - val_accuracy: 0.9315\n",
      "Epoch 13/15\n",
      "31/31 [==============================] - 4s 123ms/step - loss: 0.2320 - accuracy: 0.9204 - val_loss: 0.4237 - val_accuracy: 0.8082\n",
      "Epoch 14/15\n",
      "31/31 [==============================] - 4s 124ms/step - loss: 0.1670 - accuracy: 0.9551 - val_loss: 0.3530 - val_accuracy: 0.8767\n",
      "Epoch 15/15\n",
      "31/31 [==============================] - 4s 120ms/step - loss: 0.1306 - accuracy: 0.9633 - val_loss: 0.5204 - val_accuracy: 0.8356\n"
     ]
    },
    {
     "data": {
      "text/plain": [
       "<keras.src.callbacks.History at 0x2143feaaed0>"
      ]
     },
     "execution_count": 4,
     "metadata": {},
     "output_type": "execute_result"
    }
   ],
   "source": [
    "cnn = tf.keras.models.Sequential()\n",
    "\n",
    "cnn.add(tf.keras.layers.Conv2D(filters=32, kernel_size=3, activation='relu', input_shape=[64, 64, 3]))\n",
    "cnn.add(tf.keras.layers.MaxPool2D(pool_size=2, strides=2))\n",
    "\n",
    "cnn.add(tf.keras.layers.Conv2D(filters=32, kernel_size=3, activation='relu', input_shape=[64, 64, 3]))\n",
    "cnn.add(tf.keras.layers.MaxPool2D(pool_size=2, strides=2))\n",
    "\n",
    "cnn.add(tf.keras.layers.Flatten())\n",
    "cnn.add(tf.keras.layers.Dense(units=128, activation='relu'))\n",
    "cnn.add(tf.keras.layers.Dense(units=3, activation='softmax'))\n",
    "\n",
    "cnn.compile(optimizer = 'adam', loss = 'categorical_crossentropy', metrics = ['accuracy'])\n",
    "cnn.fit(x = training_set, validation_data = test_set, epochs = 15)"
   ]
  },
  {
   "cell_type": "code",
   "execution_count": 16,
   "id": "f2cffece-41e5-4e30-b72c-5fee24856f99",
   "metadata": {},
   "outputs": [
    {
     "name": "stdout",
     "output_type": "stream",
     "text": [
      "1/1 [==============================] - 0s 17ms/step\n",
      "[[1. 0. 0.]]\n",
      "gory\n"
     ]
    }
   ],
   "source": [
    "import os\n",
    "from keras.preprocessing import image\n",
    "import joblib\n",
    "\n",
    "imagefil = joblib.load(\"image_filter.h5\")\n",
    "\n",
    "\n",
    "\n",
    "classes =[\"gory\",\"random\",\"sexual\"]\n",
    "\n",
    "def image_processing(path):\n",
    "    test_image = image.load_img(path, target_size = (64, 64))\n",
    "    test_image = image.img_to_array(test_image)\n",
    "    test_image = np.expand_dims(test_image, axis = 0)\n",
    "    return test_image\n",
    "\n",
    "result = cnn.predict(image_processing('gory.jpg'))\n",
    "print(result)\n",
    "if result[0][0] == 1:\n",
    "    print(\"gory\")\n",
    "\n",
    "elif result[0][1] == 1:\n",
    "    print(\"random\")\n",
    "else:\n",
    "    print(\"sexual\")\n",
    "\n"
   ]
  },
  {
   "cell_type": "code",
   "execution_count": null,
   "id": "be337b01-33a9-404e-942a-c844de30c6c3",
   "metadata": {},
   "outputs": [],
   "source": []
  }
 ],
 "metadata": {
  "kernelspec": {
   "display_name": "Python 3 (ipykernel)",
   "language": "python",
   "name": "python3"
  },
  "language_info": {
   "codemirror_mode": {
    "name": "ipython",
    "version": 3
   },
   "file_extension": ".py",
   "mimetype": "text/x-python",
   "name": "python",
   "nbconvert_exporter": "python",
   "pygments_lexer": "ipython3",
   "version": "3.11.6"
  }
 },
 "nbformat": 4,
 "nbformat_minor": 5
}
