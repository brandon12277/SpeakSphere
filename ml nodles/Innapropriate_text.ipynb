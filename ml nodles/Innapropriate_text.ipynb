{
 "cells": [
  {
   "cell_type": "code",
   "execution_count": 29,
   "id": "ef661bbc-a16a-49c8-bb24-61160069cf1f",
   "metadata": {},
   "outputs": [],
   "source": [
    "import matplotlib.pyplot as plt\n",
    "import numpy as np\n",
    "import tensorflow as tf\n",
    "import pandas as pd\n",
    "import nltk\n",
    "import re\n"
   ]
  },
  {
   "cell_type": "code",
   "execution_count": 30,
   "id": "07bd903d-6f08-493c-9589-cc3ef507d9ba",
   "metadata": {},
   "outputs": [
    {
     "name": "stdout",
     "output_type": "stream",
     "text": [
      "       Unnamed: 0  count  hate_speech  offensive_language  neither  class  \\\n",
      "0               0      3            0                   0        3      2   \n",
      "1               1      3            0                   3        0      1   \n",
      "2               2      3            0                   3        0      1   \n",
      "3               3      3            0                   2        1      1   \n",
      "4               4      6            0                   6        0      1   \n",
      "...           ...    ...          ...                 ...      ...    ...   \n",
      "24778       25291      3            0                   2        1      1   \n",
      "24779       25292      3            0                   1        2      2   \n",
      "24780       25294      3            0                   3        0      1   \n",
      "24781       25295      6            0                   6        0      1   \n",
      "24782       25296      3            0                   0        3      2   \n",
      "\n",
      "                                                   tweet  \n",
      "0      !!! RT @mayasolovely: As a woman you shouldn't...  \n",
      "1      !!!!! RT @mleew17: boy dats cold...tyga dwn ba...  \n",
      "2      !!!!!!! RT @UrKindOfBrand Dawg!!!! RT @80sbaby...  \n",
      "3      !!!!!!!!! RT @C_G_Anderson: @viva_based she lo...  \n",
      "4      !!!!!!!!!!!!! RT @ShenikaRoberts: The shit you...  \n",
      "...                                                  ...  \n",
      "24778  you's a muthaf***in lie &#8220;@LifeAsKing: @2...  \n",
      "24779  you've gone and broke the wrong heart baby, an...  \n",
      "24780  young buck wanna eat!!.. dat nigguh like I ain...  \n",
      "24781              youu got wild bitches tellin you lies  \n",
      "24782  ~~Ruffled | Ntac Eileen Dahlia - Beautiful col...  \n",
      "\n",
      "[24783 rows x 7 columns]\n",
      "[\"!!! RT @mayasolovely: As a woman you shouldn't complain about cleaning up your house. &amp; as a man you should always take the trash out...\"\n",
      " '!!!!! RT @mleew17: boy dats cold...tyga dwn bad for cuffin dat hoe in the 1st place!!'\n",
      " '!!!!!!! RT @UrKindOfBrand Dawg!!!! RT @80sbaby4life: You ever fuck a bitch and she start to cry? You be confused as shit'\n",
      " ... 'young buck wanna eat!!.. dat nigguh like I aint fuckin dis up again'\n",
      " 'youu got wild bitches tellin you lies'\n",
      " '~~Ruffled | Ntac Eileen Dahlia - Beautiful color combination of pink, orange, yellow &amp; white. A Coll http://t.co/H0dYEBvnZB']\n"
     ]
    }
   ],
   "source": [
    "dataset = pd.read_csv('labeled_data.csv')\n",
    "print(dataset)\n",
    "X = dataset.iloc[:,-1].values\n",
    "Y = dataset.iloc[:,5].values\n",
    "\n",
    "print(X)"
   ]
  },
  {
   "cell_type": "code",
   "execution_count": null,
   "id": "33d68d12-f26a-40e6-928e-12ef90d289c7",
   "metadata": {},
   "outputs": [],
   "source": [
    "\n"
   ]
  },
  {
   "cell_type": "markdown",
   "id": "7eee8b9f-d9be-49d1-b7fe-87de95440cc3",
   "metadata": {},
   "source": [
    "# Cleaning the tweets"
   ]
  },
  {
   "cell_type": "code",
   "execution_count": 31,
   "id": "81bddd33-fa35-4c43-8f08-93774c4694f2",
   "metadata": {},
   "outputs": [
    {
     "name": "stderr",
     "output_type": "stream",
     "text": [
      "[nltk_data] Downloading package stopwords to C:\\Users\\Brandon\n",
      "[nltk_data]     Williams\\AppData\\Roaming\\nltk_data...\n",
      "[nltk_data]   Package stopwords is already up-to-date!\n"
     ]
    },
    {
     "data": {
      "text/plain": [
       "['rt mayasolov woman complain clean hous amp man alway take trash',\n",
       " 'rt mleew boy dat cold tyga dwn bad cuffin dat hoe st place',\n",
       " 'rt urkindofbrand dawg rt sbabi life ever fuck bitch start cri confus shit',\n",
       " 'rt c g anderson viva base look like tranni',\n",
       " 'rt shenikarobert shit hear might true might faker bitch told ya',\n",
       " 'madison x shit blow claim faith somebodi still fuck hoe',\n",
       " 'brighterday not sit hate anoth bitch got much shit go',\n",
       " 'selfiequeenbri caus tire big bitch come us skinni girl',\n",
       " 'amp might not get ya bitch back amp that',\n",
       " 'rhythmixx hobbi includ fight mariam bitch']"
      ]
     },
     "execution_count": 31,
     "metadata": {},
     "output_type": "execute_result"
    }
   ],
   "source": [
    "nltk.download('stopwords')\n",
    "from nltk.corpus import stopwords\n",
    "from nltk.stem.porter import PorterStemmer\n",
    "clean_tweet_data = []\n",
    "length = len(X)\n",
    "all_stopwords = stopwords.words('english')\n",
    "all_stopwords.remove('not')\n",
    "for i in range(0,length):\n",
    "  tweet = re.sub(r'https?://\\S+|www\\.\\S+',\"\",X[i])\n",
    "  tweet = re.sub(r'@\\w+\\s*','',X[i])\n",
    "  tweet = re.sub(r'&#\\w+\\s*','',X[i])\n",
    "  tweet = re.sub('[^a-zA-Z]', ' ', X[i])\n",
    "  tweet = tweet.lower()\n",
    "  tweet = tweet.split()\n",
    "  ps = PorterStemmer()\n",
    "  tweet = [ps.stem(word) for word in tweet if not word in set(all_stopwords)]\n",
    "  tweet = ' '.join(tweet)\n",
    "  clean_tweet_data.append(tweet)\n",
    "\n",
    "\n",
    "clean_tweet_data[:10]\n",
    "\n",
    "    \n",
    "  \n",
    "    "
   ]
  },
  {
   "cell_type": "markdown",
   "id": "d900e1a1-30f5-4772-8729-8fdfb7019f02",
   "metadata": {},
   "source": [
    "# Creating the bag of word model"
   ]
  },
  {
   "cell_type": "code",
   "execution_count": 32,
   "id": "8ea10f6e-3ddb-43df-8939-31d99c77ee40",
   "metadata": {},
   "outputs": [
    {
     "name": "stdout",
     "output_type": "stream",
     "text": [
      "[[0 0 0 ... 0 0 0]\n",
      " [0 0 0 ... 0 0 0]\n",
      " [0 0 0 ... 0 0 0]\n",
      " ...\n",
      " [0 0 0 ... 0 0 0]\n",
      " [0 0 0 ... 0 0 0]\n",
      " [0 0 0 ... 0 0 0]]\n"
     ]
    }
   ],
   "source": [
    "from sklearn.feature_extraction.text import CountVectorizer\n",
    "cv = CountVectorizer(max_features = 1500)\n",
    "X = cv.fit_transform(clean_tweet_data).toarray()\n",
    "print(X)\n"
   ]
  },
  {
   "cell_type": "markdown",
   "id": "2d3495a5-0636-453f-bf87-76f461eaab7d",
   "metadata": {},
   "source": [
    "# Splitting dataset into training and test set"
   ]
  },
  {
   "cell_type": "code",
   "execution_count": 33,
   "id": "3320e632-13f9-46b8-91b5-d64740b08cc0",
   "metadata": {},
   "outputs": [],
   "source": [
    "from sklearn.model_selection import train_test_split\n",
    "X_train, X_test, y_train, y_test = train_test_split(X, Y, test_size = 0.20, random_state = 0)\n"
   ]
  },
  {
   "cell_type": "code",
   "execution_count": 34,
   "id": "450782ae-1dec-4265-9415-c5962b0d5aac",
   "metadata": {},
   "outputs": [
    {
     "name": "stdout",
     "output_type": "stream",
     "text": [
      "{0: 1151, 1: 15338, 2: 3337}\n"
     ]
    },
    {
     "data": {
      "image/png": "[encoded data removed]",
      "text/plain": [
       "<Figure size 640x480 with 1 Axes>"
      ]
     },
     "metadata": {},
     "output_type": "display_data"
    }
   ],
   "source": [
    "from sklearn.preprocessing import LabelEncoder\n",
    "label_encoder = LabelEncoder()\n",
    "\n",
    "# Encode the labels\n",
    "y_train = label_encoder.fit_transform(y_train)\n",
    "y_test = label_encoder.fit_transform(y_test)\n",
    "count = {\n",
    "    0:0,\n",
    "    1:0,\n",
    "    2:0\n",
    "}\n",
    "\n",
    "for i in y_train:\n",
    "    count[i]+=1\n",
    "\n",
    "print(count)\n",
    "\n",
    "keys = ['hate speech','offensive','normal']\n",
    "values = count.values()\n",
    "\n",
    "plt.bar(keys,values,color = ['red','yellow','blue'])\n",
    "plt.xlabel(\"Value Count\")\n",
    "plt.ylabel(\"Classes\")\n",
    "plt.show()\n"
   ]
  },
  {
   "cell_type": "code",
   "execution_count": 35,
   "id": "52d908a5-e710-44eb-9e54-af6a41d5f94e",
   "metadata": {},
   "outputs": [],
   "source": [
    "from sklearn.linear_model import LogisticRegression\n",
    "from sklearn.tree import DecisionTreeClassifier\n",
    "from sklearn.ensemble import RandomForestClassifier\n",
    "from sklearn.svm import SVC\n",
    "\n",
    "\n",
    "\n",
    "\n",
    "classifier = DecisionTreeClassifier(criterion = 'entropy', random_state = 0)\n",
    "model = LogisticRegression(random_state = 0)\n",
    "classifier2 = RandomForestClassifier(n_estimators = 10, criterion = 'entropy', random_state = 0)\n",
    "classifier2.fit(X_train, y_train)\n",
    "svc = SVC(kernel = 'linear', random_state = 0)\n",
    "\n",
    "model.fit(X_train, y_train)\n",
    "classifier.fit(X_train, y_train)\n",
    "classifier2.fit(X_train, y_train)\n",
    "\n",
    "svc.fit(X_train, y_train)\n",
    "\n",
    "y_pred_svc = svc.predict(X_test)\n",
    "y_pred_log = model.predict(X_test)\n",
    "y_pred_r = classifier.predict(X_test)\n",
    "y_pred_rf = classifier2.predict(X_test)\n"
   ]
  },
  {
   "cell_type": "code",
   "execution_count": 36,
   "id": "8fcfa79b-1389-4a1a-845e-ab33afcdb354",
   "metadata": {},
   "outputs": [
    {
     "name": "stdout",
     "output_type": "stream",
     "text": [
      "log :  0.9019568287270526\n",
      "des :  0.8692757716360702\n",
      "des forest :  0.8930804922332055\n",
      "SVC :  0.9007464192051644\n"
     ]
    }
   ],
   "source": [
    "from sklearn.metrics import accuracy_score,confusion_matrix\n",
    "\n",
    "cm_log = confusion_matrix(y_test,y_pred_log)\n",
    "score_log = accuracy_score(y_test,y_pred_log)\n",
    "\n",
    "score_r = accuracy_score(y_test,y_pred_r)\n",
    "score_rf =accuracy_score(y_test,y_pred_rf)\n",
    "score_sv =accuracy_score(y_test,y_pred_svc)\n",
    "\n",
    "print(\"log : \",score_log)\n",
    "print(\"des : \",score_r)\n",
    "print(\"des forest : \",score_rf)\n",
    "print(\"SVC : \",score_sv)"
   ]
  },
  {
   "cell_type": "code",
   "execution_count": 37,
   "id": "e2d7590d-b57f-416e-9773-3ea8aeb7eb64",
   "metadata": {},
   "outputs": [
    {
     "name": "stdout",
     "output_type": "stream",
     "text": [
      "[1 1 1 ... 1 1 1]\n",
      "Epoch 1/15\n"
     ]
    },
    {
     "name": "stderr",
     "output_type": "stream",
     "text": [
      "C:\\Users\\Brandon Williams\\AppData\\Local\\Programs\\Python\\Python312\\Lib\\site-packages\\keras\\src\\layers\\core\\dense.py:87: UserWarning: Do not pass an `input_shape`/`input_dim` argument to a layer. When using Sequential models, prefer using an `Input(shape)` object as the first layer in the model instead.\n",
      "  super().__init__(activity_regularizer=activity_regularizer, **kwargs)\n"
     ]
    },
    {
     "name": "stdout",
     "output_type": "stream",
     "text": [
      "\u001b[1m310/310\u001b[0m \u001b[32m━━━━━━━━━━━━━━━━━━━━\u001b[0m\u001b[37m\u001b[0m \u001b[1m2s\u001b[0m 4ms/step - accuracy: 0.8142 - loss: 0.5005\n",
      "Epoch 2/15\n",
      "\u001b[1m310/310\u001b[0m \u001b[32m━━━━━━━━━━━━━━━━━━━━\u001b[0m\u001b[37m\u001b[0m \u001b[1m1s\u001b[0m 4ms/step - accuracy: 0.9253 - loss: 0.2120\n",
      "Epoch 3/15\n",
      "\u001b[1m310/310\u001b[0m \u001b[32m━━━━━━━━━━━━━━━━━━━━\u001b[0m\u001b[37m\u001b[0m \u001b[1m1s\u001b[0m 4ms/step - accuracy: 0.9532 - loss: 0.1326\n",
      "Epoch 4/15\n",
      "\u001b[1m310/310\u001b[0m \u001b[32m━━━━━━━━━━━━━━━━━━━━\u001b[0m\u001b[37m\u001b[0m \u001b[1m1s\u001b[0m 4ms/step - accuracy: 0.9700 - loss: 0.0802\n",
      "Epoch 5/15\n",
      "\u001b[1m310/310\u001b[0m \u001b[32m━━━━━━━━━━━━━━━━━━━━\u001b[0m\u001b[37m\u001b[0m \u001b[1m1s\u001b[0m 4ms/step - accuracy: 0.9824 - loss: 0.0527\n",
      "Epoch 6/15\n",
      "\u001b[1m310/310\u001b[0m \u001b[32m━━━━━━━━━━━━━━━━━━━━\u001b[0m\u001b[37m\u001b[0m \u001b[1m1s\u001b[0m 4ms/step - accuracy: 0.9875 - loss: 0.0367\n",
      "Epoch 7/15\n",
      "\u001b[1m310/310\u001b[0m \u001b[32m━━━━━━━━━━━━━━━━━━━━\u001b[0m\u001b[37m\u001b[0m \u001b[1m1s\u001b[0m 4ms/step - accuracy: 0.9907 - loss: 0.0260\n",
      "Epoch 8/15\n",
      "\u001b[1m310/310\u001b[0m \u001b[32m━━━━━━━━━━━━━━━━━━━━\u001b[0m\u001b[37m\u001b[0m \u001b[1m1s\u001b[0m 4ms/step - accuracy: 0.9914 - loss: 0.0220\n",
      "Epoch 9/15\n",
      "\u001b[1m310/310\u001b[0m \u001b[32m━━━━━━━━━━━━━━━━━━━━\u001b[0m\u001b[37m\u001b[0m \u001b[1m1s\u001b[0m 4ms/step - accuracy: 0.9906 - loss: 0.0231\n",
      "Epoch 10/15\n",
      "\u001b[1m310/310\u001b[0m \u001b[32m━━━━━━━━━━━━━━━━━━━━\u001b[0m\u001b[37m\u001b[0m \u001b[1m1s\u001b[0m 4ms/step - accuracy: 0.9925 - loss: 0.0184\n",
      "Epoch 11/15\n",
      "\u001b[1m310/310\u001b[0m \u001b[32m━━━━━━━━━━━━━━━━━━━━\u001b[0m\u001b[37m\u001b[0m \u001b[1m1s\u001b[0m 4ms/step - accuracy: 0.9906 - loss: 0.0263\n",
      "Epoch 12/15\n",
      "\u001b[1m310/310\u001b[0m \u001b[32m━━━━━━━━━━━━━━━━━━━━\u001b[0m\u001b[37m\u001b[0m \u001b[1m1s\u001b[0m 4ms/step - accuracy: 0.9925 - loss: 0.0170\n",
      "Epoch 13/15\n",
      "\u001b[1m310/310\u001b[0m \u001b[32m━━━━━━━━━━━━━━━━━━━━\u001b[0m\u001b[37m\u001b[0m \u001b[1m1s\u001b[0m 4ms/step - accuracy: 0.9911 - loss: 0.0223\n",
      "Epoch 14/15\n",
      "\u001b[1m310/310\u001b[0m \u001b[32m━━━━━━━━━━━━━━━━━━━━\u001b[0m\u001b[37m\u001b[0m \u001b[1m1s\u001b[0m 4ms/step - accuracy: 0.9913 - loss: 0.0202\n",
      "Epoch 15/15\n",
      "\u001b[1m310/310\u001b[0m \u001b[32m━━━━━━━━━━━━━━━━━━━━\u001b[0m\u001b[37m\u001b[0m \u001b[1m1s\u001b[0m 4ms/step - accuracy: 0.9937 - loss: 0.0149\n",
      "\u001b[1m155/155\u001b[0m \u001b[32m━━━━━━━━━━━━━━━━━━━━\u001b[0m\u001b[37m\u001b[0m \u001b[1m0s\u001b[0m 1ms/step\n",
      "ann :  0.8876336493847085\n"
     ]
    }
   ],
   "source": [
    "\n",
    "ann = tf.keras.models.Sequential()\n",
    "ann.add(tf.keras.layers.Dense(units=256, activation='relu',input_shape=(1500,)))\n",
    "ann.add(tf.keras.layers.Dense(units=256, activation='relu'))\n",
    "ann.add(tf.keras.layers.Dense(units=256, activation='relu'))\n",
    "ann.add(tf.keras.layers.Dense(units=128, activation='relu'))\n",
    "ann.add(tf.keras.layers.Dense(units=128, activation='relu'))\n",
    "ann.add(tf.keras.layers.Dense(units = 3, activation='softmax'))\n",
    "\n",
    "ann.compile(optimizer = 'adam', loss='sparse_categorical_crossentropy', metrics = ['accuracy'])\n",
    "print(y_train)\n",
    "ann.fit(X_train, y_train, batch_size = 64, epochs = 15)\n",
    "y_pred_ann = np.argmax(ann.predict(X_test),axis=1)\n",
    "\n",
    "score_an =accuracy_score(y_test,y_pred_ann)\n",
    "print(\"ann : \",score_an)"
   ]
  },
  {
   "cell_type": "code",
   "execution_count": 38,
   "id": "87adb620-274d-4b04-a38b-8afa65d0519f",
   "metadata": {},
   "outputs": [
    {
     "name": "stdout",
     "output_type": "stream",
     "text": [
      "[1]\n",
      "offensive\n"
     ]
    }
   ],
   "source": [
    "import joblib\n",
    "prediction = [\"hate_speech\",\"offensive\",\"Normal\"]\n",
    "text_data= []\n",
    "\n",
    "\n",
    "#model_tree = joblib.load('nsfw_text.h5')\n",
    "#vectorizer_text = joblib.load('vector_text.joblib')\n",
    "text = ''' you are retarded  '''\n",
    "# text_array = text.split('.')\n",
    "# length = len(text_array)\n",
    "# for text in text_array:\n",
    "    \n",
    "text = re.sub('[^a-zA-Z]', ' ', text)\n",
    "text = text.lower()\n",
    "text = text.split()\n",
    "ps = PorterStemmer()\n",
    "text = [ps.stem(word) for word in text if not word in set(all_stopwords)]\n",
    "text = ' '.join(text)\n",
    "text_data.append(text)\n",
    "\n",
    "\n",
    "\n",
    "\n",
    "text_pro = cv.transform(text_data).toarray()\n",
    "flag = True\n",
    "\n",
    "y_p = svc.predict(text_pro)\n",
    "# for i in range(0, len(text_pro)):\n",
    "#     y_p = svc.predict([text_pro[i]])\n",
    "#     if  y_p[0] == 0 or y_p[0] == 1:\n",
    "#         print(\"Line Number : \",i+1,\"\",text_data[i],prediction[y_p[0]])\n",
    "#         flag = False\n",
    "\n",
    "# if flag:\n",
    "#    print(\"Clean text\") \n",
    "print(y_p)\n",
    "print(prediction[y_p[0]])\n",
    "\n",
    "# joblib.dump(svc, 'text_filter_svc.h5')\n",
    "# joblib.dump(cv, 'vectorizer.joblib')\n"
   ]
  },
  {
   "cell_type": "code",
   "execution_count": null,
   "id": "2f115657-3973-4c6d-9db1-25cbab49d0c4",
   "metadata": {},
   "outputs": [],
   "source": []
  }
 ],
 "metadata": {
  "kernelspec": {
   "display_name": "Python 3 (ipykernel)",
   "language": "python",
   "name": "python3"
  },
  "language_info": {
   "codemirror_mode": {
    "name": "ipython",
    "version": 3
   },
   "file_extension": ".py",
   "mimetype": "text/x-python",
   "name": "python",
   "nbconvert_exporter": "python",
   "pygments_lexer": "ipython3",
   "version": "3.12.3"
  }
 },
 "nbformat": 4,
 "nbformat_minor": 5
}
